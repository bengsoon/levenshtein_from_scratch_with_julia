{
 "cells": [
  {
   "cell_type": "markdown",
   "id": "d1a1b322-8aa6-404f-86bf-5bd736d265c4",
   "metadata": {},
   "source": [
    "# Levenshtein from Scratch with Julia"
   ]
  },
  {
   "cell_type": "markdown",
   "id": "afcbd92b-4c94-48f0-8e52-4b037b4739e9",
   "metadata": {},
   "source": [
    "References:\n",
    "1. https://en.wikipedia.org/wiki/Levenshtein_distance\n",
    "2. https://rawgit.com/ztane/python-Levenshtein/master/docs/Levenshtein.html\n",
    "3. https://www.datacamp.com/community/tutorials/fuzzy-string-python"
   ]
  },
  {
   "cell_type": "markdown",
   "id": "43460b8f-3bb6-43b8-9227-974748a8c33f",
   "metadata": {},
   "source": [
    "### Levenshtein Distance and Ratio Step by Step"
   ]
  },
  {
   "cell_type": "markdown",
   "id": "dc5b6f96-35d8-4472-916b-834e9dee00ad",
   "metadata": {},
   "source": [
    "Let's start off by writing the Levenshtein distance and ratio calculations step by step"
   ]
  },
  {
   "cell_type": "markdown",
   "id": "48e9a037-e4b0-41b4-bfcc-14a69717add4",
   "metadata": {},
   "source": [
    "We will compare the two strings below:"
   ]
  },
  {
   "cell_type": "code",
   "execution_count": 30,
   "id": "fd5cb516-195e-45d2-98bf-18a077d47594",
   "metadata": {},
   "outputs": [
    {
     "data": {
      "text/plain": [
       "\"Lenvinsten\""
      ]
     },
     "execution_count": 30,
     "metadata": {},
     "output_type": "execute_result"
    }
   ],
   "source": [
    "source = \"Levenshtein\"\n",
    "target = \"Lenvinsten\""
   ]
  },
  {
   "cell_type": "code",
   "execution_count": 6,
   "id": "300333fa-618a-4d79-bb25-778352449a02",
   "metadata": {},
   "outputs": [
    {
     "name": "stdout",
     "output_type": "stream",
     "text": [
      "(12, 11)\n"
     ]
    }
   ],
   "source": [
    "# get the dimensions to set up the Distance Matrix\n",
    "r = length(source)+1\n",
    "c = length(target)+1\n",
    "println((r,c))"
   ]
  },
  {
   "cell_type": "code",
   "execution_count": 7,
   "id": "84b20f3a-d0e0-4db0-b546-a9a56488f546",
   "metadata": {},
   "outputs": [
    {
     "data": {
      "text/plain": [
       "12×11 Matrix{Float64}:\n",
       " 0.0  0.0  0.0  0.0  0.0  0.0  0.0  0.0  0.0  0.0  0.0\n",
       " 0.0  0.0  0.0  0.0  0.0  0.0  0.0  0.0  0.0  0.0  0.0\n",
       " 0.0  0.0  0.0  0.0  0.0  0.0  0.0  0.0  0.0  0.0  0.0\n",
       " 0.0  0.0  0.0  0.0  0.0  0.0  0.0  0.0  0.0  0.0  0.0\n",
       " 0.0  0.0  0.0  0.0  0.0  0.0  0.0  0.0  0.0  0.0  0.0\n",
       " 0.0  0.0  0.0  0.0  0.0  0.0  0.0  0.0  0.0  0.0  0.0\n",
       " 0.0  0.0  0.0  0.0  0.0  0.0  0.0  0.0  0.0  0.0  0.0\n",
       " 0.0  0.0  0.0  0.0  0.0  0.0  0.0  0.0  0.0  0.0  0.0\n",
       " 0.0  0.0  0.0  0.0  0.0  0.0  0.0  0.0  0.0  0.0  0.0\n",
       " 0.0  0.0  0.0  0.0  0.0  0.0  0.0  0.0  0.0  0.0  0.0\n",
       " 0.0  0.0  0.0  0.0  0.0  0.0  0.0  0.0  0.0  0.0  0.0\n",
       " 0.0  0.0  0.0  0.0  0.0  0.0  0.0  0.0  0.0  0.0  0.0"
      ]
     },
     "execution_count": 7,
     "metadata": {},
     "output_type": "execute_result"
    }
   ],
   "source": [
    "# Initialize the matrix with zeros\n",
    "D = Array{Float64, 2}(undef, length(source)+1, length(target)+1)\n",
    "fill!(D, 0)"
   ]
  },
  {
   "cell_type": "code",
   "execution_count": 8,
   "id": "577ca5e9-9366-4697-84e2-ee6c14fa55ba",
   "metadata": {
    "tags": []
   },
   "outputs": [],
   "source": [
    "# let the first row and col be populated by the indices of source and target\n",
    "for row = 2:r\n",
    "    for col = 2:c\n",
    "        D[row, 1] = row-1\n",
    "        D[1, col] = col-1\n",
    "    end\n",
    "end"
   ]
  },
  {
   "cell_type": "code",
   "execution_count": 9,
   "id": "261f839a-ef2a-4545-bfcd-e5d3b4308ba5",
   "metadata": {},
   "outputs": [
    {
     "data": {
      "text/plain": [
       "12×11 Matrix{Float64}:\n",
       "  0.0  1.0  2.0  3.0  4.0  5.0  6.0  7.0  8.0  9.0  10.0\n",
       "  1.0  0.0  0.0  0.0  0.0  0.0  0.0  0.0  0.0  0.0   0.0\n",
       "  2.0  0.0  0.0  0.0  0.0  0.0  0.0  0.0  0.0  0.0   0.0\n",
       "  3.0  0.0  0.0  0.0  0.0  0.0  0.0  0.0  0.0  0.0   0.0\n",
       "  4.0  0.0  0.0  0.0  0.0  0.0  0.0  0.0  0.0  0.0   0.0\n",
       "  5.0  0.0  0.0  0.0  0.0  0.0  0.0  0.0  0.0  0.0   0.0\n",
       "  6.0  0.0  0.0  0.0  0.0  0.0  0.0  0.0  0.0  0.0   0.0\n",
       "  7.0  0.0  0.0  0.0  0.0  0.0  0.0  0.0  0.0  0.0   0.0\n",
       "  8.0  0.0  0.0  0.0  0.0  0.0  0.0  0.0  0.0  0.0   0.0\n",
       "  9.0  0.0  0.0  0.0  0.0  0.0  0.0  0.0  0.0  0.0   0.0\n",
       " 10.0  0.0  0.0  0.0  0.0  0.0  0.0  0.0  0.0  0.0   0.0\n",
       " 11.0  0.0  0.0  0.0  0.0  0.0  0.0  0.0  0.0  0.0   0.0"
      ]
     },
     "execution_count": 9,
     "metadata": {},
     "output_type": "execute_result"
    }
   ],
   "source": [
    "# let's check out our matrix\n",
    "D"
   ]
  },
  {
   "cell_type": "code",
   "execution_count": 10,
   "id": "dd55a09e-bfc2-4276-89cd-f166ec0a9ca2",
   "metadata": {
    "tags": []
   },
   "outputs": [],
   "source": [
    "# iterate over the matrix to compute cost of deletions, insertions, substitions\n",
    "for row = 2:r\n",
    "    for col = 2:c\n",
    "        if source[row-1] == target[col-1]\n",
    "            substitutionCost = 0\n",
    "        else\n",
    "            substitutionCost = 1\n",
    "        end\n",
    "        D[row, col] = minimum((D[row-1, col] + 1, D[row, col-1] + 1, D[row-1, col-1] + substitutionCost))\n",
    "    end\n",
    "end"
   ]
  },
  {
   "cell_type": "code",
   "execution_count": 11,
   "id": "4d8c3706-4ca9-4824-afad-8d0812b9b0fa",
   "metadata": {},
   "outputs": [
    {
     "data": {
      "text/plain": [
       "12×11 Matrix{Float64}:\n",
       "  0.0   1.0  2.0  3.0  4.0  5.0  6.0  7.0  8.0  9.0  10.0\n",
       "  1.0   0.0  1.0  2.0  3.0  4.0  5.0  6.0  7.0  8.0   9.0\n",
       "  2.0   1.0  0.0  1.0  2.0  3.0  4.0  5.0  6.0  7.0   8.0\n",
       "  3.0   2.0  1.0  1.0  1.0  2.0  3.0  4.0  5.0  6.0   7.0\n",
       "  4.0   3.0  2.0  2.0  2.0  2.0  3.0  4.0  5.0  5.0   6.0\n",
       "  5.0   4.0  3.0  2.0  3.0  3.0  2.0  3.0  4.0  5.0   5.0\n",
       "  6.0   5.0  4.0  3.0  3.0  4.0  3.0  2.0  3.0  4.0   5.0\n",
       "  7.0   6.0  5.0  4.0  4.0  4.0  4.0  3.0  3.0  4.0   5.0\n",
       "  8.0   7.0  6.0  5.0  5.0  5.0  5.0  4.0  3.0  4.0   5.0\n",
       "  9.0   8.0  7.0  6.0  6.0  6.0  6.0  5.0  4.0  3.0   4.0\n",
       " 10.0   9.0  8.0  7.0  7.0  6.0  7.0  6.0  5.0  4.0   4.0\n",
       " 11.0  10.0  9.0  8.0  8.0  7.0  6.0  7.0  6.0  5.0   4.0"
      ]
     },
     "execution_count": 11,
     "metadata": {},
     "output_type": "execute_result"
    }
   ],
   "source": [
    "D"
   ]
  },
  {
   "cell_type": "code",
   "execution_count": 12,
   "id": "4b8995e7-03b5-4f9e-b001-74e53ca53177",
   "metadata": {
    "tags": []
   },
   "outputs": [
    {
     "name": "stdout",
     "output_type": "stream",
     "text": [
      "Distance is 4 edits away\n"
     ]
    }
   ],
   "source": [
    "println(\"Distance is \", Int32(D[r, c]), \" edits away\")"
   ]
  },
  {
   "cell_type": "code",
   "execution_count": 13,
   "id": "c65fd28b-23c5-485f-b6f3-ae8f67840501",
   "metadata": {},
   "outputs": [
    {
     "data": {
      "text/plain": [
       "0.8095238095238095"
      ]
     },
     "execution_count": 13,
     "metadata": {},
     "output_type": "execute_result"
    }
   ],
   "source": [
    "# calculate Leveinshtein ratio\n",
    "ratio_manual =  (length(source) + length(target) - D[r, c]) / (length(source) + length(target))"
   ]
  },
  {
   "cell_type": "markdown",
   "id": "faf8ed32-7cdc-4738-a19a-b14d42c20d72",
   "metadata": {},
   "source": [
    "### Levenshtein Distance Function"
   ]
  },
  {
   "cell_type": "markdown",
   "id": "cbaa37cf-af3a-4925-bc5d-72b3ea2bf4bd",
   "metadata": {},
   "source": [
    "Let's implement all of the above into a function"
   ]
  },
  {
   "cell_type": "code",
   "execution_count": 5,
   "id": "875b335a-c837-4307-aa7d-c60c80bba186",
   "metadata": {},
   "outputs": [
    {
     "data": {
      "text/plain": [
       "levenshtein_distance (generic function with 1 method)"
      ]
     },
     "execution_count": 5,
     "metadata": {},
     "output_type": "execute_result"
    }
   ],
   "source": [
    "function levenshtein_distance(source, target)\n",
    "    \"\"\"\n",
    "        levenshtein_distance(source,target)\n",
    "    \n",
    "    levenshtein_ratio_and_distance:\n",
    "    - Calculates levenshtein distance between source and target.\n",
    "    - Calculates leveshtein ratio between source and target.\n",
    "    \n",
    "    Returns Distance, Ratio and Distance Matrix\n",
    "    \"\"\"\n",
    "    \n",
    "    # get the source and target lengths to create a Distance matrix\n",
    "    rows = length(source) + 1\n",
    "    cols = length(target) + 1\n",
    "    \n",
    "    # initialize an rows x cols array of zeros (call it d, for distance)\n",
    "    D = zeros(Float64, (rows, cols))\n",
    "    \n",
    "    # let the first row and col be populated by the indices of source and target\n",
    "    for row = 2:rows\n",
    "        for col = 2:cols\n",
    "            D[row, 1] = row-1\n",
    "            D[1, col] = col-1\n",
    "        end\n",
    "    end\n",
    "    \n",
    "    # iterate over the matrix to compute cost of deletions, insertions, substitions\n",
    "    for row = 2:rows\n",
    "        for col = 2:cols\n",
    "            if source[row-1] == target[col-1]\n",
    "                substitutionCost = 0\n",
    "            else\n",
    "                substitutionCost = 1 # if we were to compare this to python's levenshtein package, the cost is 2 \n",
    "            end\n",
    "            D[row, col] = minimum((D[row-1, col] + 1, # cost of removal\n",
    "                    D[row, col-1] + 1,  # cost of addition\n",
    "                    D[row-1, col-1] + substitutionCost)) # cost of substitution\n",
    "        end\n",
    "    end \n",
    "    \n",
    "    # calculate Leveinshtein ratio\n",
    "    ratio = (length(source) + length(target) - D[rows, cols]) / (length(source) + length(target))\n",
    "    println(\"Distance is \", Int32(D[rows, cols]), \" edits away\")\n",
    "    println(\"Levenshtein Ratio is \", ratio)\n",
    "    \n",
    "    return D[rows, cols], ratio, D\n",
    "end"
   ]
  },
  {
   "cell_type": "code",
   "execution_count": null,
   "id": "2eb16347-a315-4063-9d95-b5cb2557b4c2",
   "metadata": {},
   "outputs": [],
   "source": [
    "levenshtein_distance()"
   ]
  },
  {
   "cell_type": "code",
   "execution_count": 2,
   "id": "d8ed9f1c-adf7-4207-b51a-314463441859",
   "metadata": {},
   "outputs": [
    {
     "name": "stdout",
     "output_type": "stream",
     "text": [
      "Distance is 4 edits away\n",
      "Levenshtein Ratio is 0.8095238095238095\n"
     ]
    },
    {
     "data": {
      "text/plain": [
       "(4.0, 0.8095238095238095, [0.0 1.0 … 9.0 10.0; 1.0 0.0 … 8.0 9.0; … ; 10.0 9.0 … 4.0 4.0; 11.0 10.0 … 5.0 4.0])"
      ]
     },
     "execution_count": 2,
     "metadata": {},
     "output_type": "execute_result"
    }
   ],
   "source": [
    "source = \"Levenshtein\"\n",
    "target = \"Lenvinsten\"\n",
    "distance, ratio, distance_matrix = levenshtein_distance(source, target)"
   ]
  },
  {
   "cell_type": "markdown",
   "id": "bb438695-8400-4ae0-8170-81048560825b",
   "metadata": {},
   "source": [
    "#### Test it out with the examples in the Python-Levenshtein package docs\n",
    "\n",
    "Ref: https://rawgit.com/ztane/python-Levenshtein/master/docs/Levenshtein.html#Levenshtein-ratio"
   ]
  },
  {
   "cell_type": "code",
   "execution_count": 43,
   "id": "e2726139-5b06-4bce-b630-de44db79b47b",
   "metadata": {},
   "outputs": [
    {
     "name": "stdout",
     "output_type": "stream",
     "text": [
      "Distance is 7 edits away\n",
      "Levenshtein Ratio is 0.7083333333333334\n"
     ]
    },
    {
     "data": {
      "text/plain": [
       "(7.0, 0.7083333333333334, [0.0 1.0 … 11.0 12.0; 1.0 0.0 … 10.0 11.0; … ; 11.0 10.0 … 7.0 7.0; 12.0 11.0 … 7.0 7.0])"
      ]
     },
     "execution_count": 43,
     "metadata": {},
     "output_type": "execute_result"
    }
   ],
   "source": [
    "source = \"Hello world!\"\n",
    "target = \"Holly grail!\"\n",
    "distance, ratio, distance_matrix = levenshtein_distance(source, target)"
   ]
  },
  {
   "cell_type": "code",
   "execution_count": 44,
   "id": "56c4d1b3-02a7-4445-b6ed-2a0a4470a362",
   "metadata": {},
   "outputs": [
    {
     "data": {
      "text/plain": [
       "0.7083333333333334"
      ]
     },
     "execution_count": 44,
     "metadata": {},
     "output_type": "execute_result"
    }
   ],
   "source": [
    "ratio"
   ]
  },
  {
   "cell_type": "markdown",
   "id": "60212f4f-6043-410a-abbc-b218c00f5a1e",
   "metadata": {},
   "source": [
    "> Note that the ratio is different from the ratio calculation in Python-Levenshtein package documentation (0.583333....) as that uses `subsitutionCost = 2` (instead of 1) when `s[i] != t[j]`."
   ]
  }
 ],
 "metadata": {
  "kernelspec": {
   "display_name": "Julia 1.6.3",
   "language": "julia",
   "name": "julia-1.6"
  },
  "language_info": {
   "file_extension": ".jl",
   "mimetype": "application/julia",
   "name": "julia",
   "version": "1.6.3"
  }
 },
 "nbformat": 4,
 "nbformat_minor": 5
}
